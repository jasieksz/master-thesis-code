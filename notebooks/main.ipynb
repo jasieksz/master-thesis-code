{
 "cells": [
  {
   "cell_type": "code",
   "execution_count": 5,
   "metadata": {
    "collapsed": true,
    "pycharm": {
     "name": "#%%\n"
    }
   },
   "outputs": [],
   "source": [
    "import code.profiles.generation as gen\n",
    "from time import time\n",
    "from code.utils import timed\n",
    "from code.profiles.definitions import Profile, Voter, Candidate, VCR44\n",
    "from code.profiles.vcrDetection import detectVCRProperty\n",
    "from code.profiles.vcrDomain import isVCR"
   ]
  },
  {
   "cell_type": "code",
   "execution_count": 6,
   "outputs": [],
   "source": [
    "approvalSet = VCR44().A\n",
    "cands = [\"A\", \"B\", \"C\", \"D\"]\n",
    "voters = [\"1\", \"2\", \"3\", \"4\"]"
   ],
   "metadata": {
    "collapsed": false,
    "pycharm": {
     "name": "#%%\n"
    }
   }
  },
  {
   "cell_type": "code",
   "execution_count": 7,
   "outputs": [
    {
     "name": "stdout",
     "output_type": "stream",
     "text": [
      "Using license file /home/jasiek/.local/share/virtualenvs/master-thesis-code-oOGc7iSH/lib/python3.8/site-packages/gurobipy/.libs/gurobi.lic\n",
      "Restricted license - for non-production use only - expires 2022-01-13\n",
      "Gurobi Optimizer version 9.1.0 build v9.1.0rc0 (linux64)\n",
      "Thread count: 8 physical cores, 16 logical processors, using up to 16 threads\n",
      "Optimize a model with 38 rows, 48 columns and 152 nonzeros\n",
      "Model fingerprint: 0xd635c9eb\n",
      "Variable types: 16 continuous, 32 integer (32 binary)\n",
      "Coefficient statistics:\n",
      "  Matrix range     [1e+00, 1e+02]\n",
      "  Objective range  [0e+00, 0e+00]\n",
      "  Bounds range     [1e+00, 1e+00]\n",
      "  RHS range        [1e+00, 1e+02]\n",
      "Found heuristic solution: objective 0.0000000\n",
      "\n",
      "Explored 0 nodes (0 simplex iterations) in 0.01 seconds\n",
      "Thread count was 1 (of 16 available processors)\n",
      "\n",
      "Solution count 1: 0 \n",
      "\n",
      "Optimal solution found (tolerance 1.00e-04)\n",
      "Best objective 0.000000000000e+00, best bound 0.000000000000e+00, gap 0.0000%\n"
     ]
    }
   ],
   "source": [
    "res = detectVCRProperty(approvalSet, cands, voters)"
   ],
   "metadata": {
    "collapsed": false,
    "pycharm": {
     "name": "#%%\n"
    }
   }
  },
  {
   "cell_type": "code",
   "execution_count": 8,
   "outputs": [
    {
     "data": {
      "text/plain": "{'xA': 2.0,\n 'xB': 0.0,\n 'xC': 4.0,\n 'xD': 0.0,\n 'x1': 3.0,\n 'x2': 4.0,\n 'x3': 0.0,\n 'x4': 0.0,\n 'rA': 1.0,\n 'rB': 2000000000.0,\n 'rC': 0.0,\n 'rD': 0.0,\n 'r1': 0.0,\n 'r2': 0.0,\n 'r3': 0.0,\n 'r4': 2000000000.0}"
     },
     "execution_count": 8,
     "metadata": {},
     "output_type": "execute_result"
    }
   ],
   "source": [
    "res"
   ],
   "metadata": {
    "collapsed": false,
    "pycharm": {
     "name": "#%%\n"
    }
   }
  },
  {
   "cell_type": "code",
   "execution_count": 14,
   "outputs": [],
   "source": [
    "result = res\n",
    "v = [Voter(id=vId, x=result['x'+vId], r=result['r'+vId]) for vId in voters]\n",
    "candidates = [Candidate(id=cId, x=result['x'+cId], r=result['r'+cId]) for cId in cands]\n",
    "profile = Profile(approvalSet, v, candidates)"
   ],
   "metadata": {
    "collapsed": false,
    "pycharm": {
     "name": "#%%\n"
    }
   }
  },
  {
   "cell_type": "code",
   "execution_count": 15,
   "outputs": [
    {
     "data": {
      "text/plain": "True"
     },
     "execution_count": 15,
     "metadata": {},
     "output_type": "execute_result"
    }
   ],
   "source": [
    "isVCR(profile)\n"
   ],
   "metadata": {
    "collapsed": false,
    "pycharm": {
     "name": "#%%\n"
    }
   }
  }
 ],
 "metadata": {
  "kernelspec": {
   "display_name": "Python 3",
   "language": "python",
   "name": "python3"
  },
  "language_info": {
   "codemirror_mode": {
    "name": "ipython",
    "version": 2
   },
   "file_extension": ".py",
   "mimetype": "text/x-python",
   "name": "python",
   "nbconvert_exporter": "python",
   "pygments_lexer": "ipython2",
   "version": "2.7.6"
  }
 },
 "nbformat": 4,
 "nbformat_minor": 0
}