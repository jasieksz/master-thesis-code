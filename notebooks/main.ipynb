{
 "cells": [
  {
   "cell_type": "code",
   "execution_count": 6,
   "metadata": {
    "pycharm": {
     "name": "#%%\n"
    }
   },
   "outputs": [
    {
     "ename": "ModuleNotFoundError",
     "evalue": "No module named 'code.profiles'; 'code' is not a package",
     "output_type": "error",
     "traceback": [
      "\u001B[0;31m---------------------------------------------------------------------------\u001B[0m",
      "\u001B[0;31mModuleNotFoundError\u001B[0m                       Traceback (most recent call last)",
      "\u001B[0;32m<ipython-input-6-e40577ef5672>\u001B[0m in \u001B[0;36m<module>\u001B[0;34m\u001B[0m\n\u001B[0;32m----> 1\u001B[0;31m \u001B[0;32mimport\u001B[0m \u001B[0mcode\u001B[0m\u001B[0;34m.\u001B[0m\u001B[0mprofiles\u001B[0m\u001B[0;34m.\u001B[0m\u001B[0mgeneration\u001B[0m \u001B[0;32mas\u001B[0m \u001B[0mgen\u001B[0m\u001B[0;34m\u001B[0m\u001B[0;34m\u001B[0m\u001B[0m\n\u001B[0m\u001B[1;32m      2\u001B[0m \u001B[0;31m# from time import time\u001B[0m\u001B[0;34m\u001B[0m\u001B[0;34m\u001B[0m\u001B[0;34m\u001B[0m\u001B[0m\n\u001B[1;32m      3\u001B[0m \u001B[0;31m# from code.utils import timed\u001B[0m\u001B[0;34m\u001B[0m\u001B[0;34m\u001B[0m\u001B[0;34m\u001B[0m\u001B[0m\n\u001B[1;32m      4\u001B[0m \u001B[0;31m# from code.profiles.definitions import Profile, Voter, Candidate, VCR44\u001B[0m\u001B[0;34m\u001B[0m\u001B[0;34m\u001B[0m\u001B[0;34m\u001B[0m\u001B[0m\n\u001B[1;32m      5\u001B[0m \u001B[0;31m# from code.profiles.vcrDetection import detectVCRProperty\u001B[0m\u001B[0;34m\u001B[0m\u001B[0;34m\u001B[0m\u001B[0;34m\u001B[0m\u001B[0m\n",
      "\u001B[0;31mModuleNotFoundError\u001B[0m: No module named 'code.profiles'; 'code' is not a package"
     ]
    }
   ],
   "source": [
    "import code.profiles.generation as gen\n",
    "# from time import time\n",
    "# from code.utils import timed\n",
    "# from code.profiles.definitions import Profile, Voter, Candidate, VCR44\n",
    "# from code.profiles.vcrDetection import detectVCRProperty\n",
    "# from code.profiles.vcrDomain import isVCR"
   ]
  },
  {
   "cell_type": "code",
   "execution_count": 7,
   "metadata": {},
   "outputs": [
    {
     "name": "stdout",
     "output_type": "stream",
     "text": [
      "/home/jasiek/Projects/AGH/MGR/master-thesis-code/notebooks\r\n"
     ]
    }
   ],
   "source": []
  },
  {
   "cell_type": "code",
   "execution_count": 6,
   "metadata": {
    "pycharm": {
     "name": "#%%\n"
    }
   },
   "outputs": [],
   "source": [
    "approvalSet = VCR44().A\n",
    "cands = [\"A\", \"B\", \"C\", \"D\"]\n",
    "voters = [\"1\", \"2\", \"3\", \"4\"]"
   ]
  },
  {
   "cell_type": "code",
   "execution_count": 7,
   "metadata": {
    "pycharm": {
     "name": "#%%\n"
    }
   },
   "outputs": [
    {
     "name": "stdout",
     "output_type": "stream",
     "text": [
      "Using license file /home/jasiek/.local/share/virtualenvs/master-thesis-code-oOGc7iSH/lib/python3.8/site-packages/gurobipy/.libs/gurobi.lic\n",
      "Restricted license - for non-production use only - expires 2022-01-13\n",
      "Gurobi Optimizer version 9.1.0 build v9.1.0rc0 (linux64)\n",
      "Thread count: 8 physical cores, 16 logical processors, using up to 16 threads\n",
      "Optimize a model with 38 rows, 48 columns and 152 nonzeros\n",
      "Model fingerprint: 0xd635c9eb\n",
      "Variable types: 16 continuous, 32 integer (32 binary)\n",
      "Coefficient statistics:\n",
      "  Matrix range     [1e+00, 1e+02]\n",
      "  Objective range  [0e+00, 0e+00]\n",
      "  Bounds range     [1e+00, 1e+00]\n",
      "  RHS range        [1e+00, 1e+02]\n",
      "Found heuristic solution: objective 0.0000000\n",
      "\n",
      "Explored 0 nodes (0 simplex iterations) in 0.01 seconds\n",
      "Thread count was 1 (of 16 available processors)\n",
      "\n",
      "Solution count 1: 0 \n",
      "\n",
      "Optimal solution found (tolerance 1.00e-04)\n",
      "Best objective 0.000000000000e+00, best bound 0.000000000000e+00, gap 0.0000%\n"
     ]
    }
   ],
   "source": [
    "res = detectVCRProperty(approvalSet, cands, voters)"
   ]
  },
  {
   "cell_type": "code",
   "execution_count": 8,
   "metadata": {
    "pycharm": {
     "name": "#%%\n"
    }
   },
   "outputs": [
    {
     "data": {
      "text/plain": [
       "{'xA': 2.0,\n",
       " 'xB': 0.0,\n",
       " 'xC': 4.0,\n",
       " 'xD': 0.0,\n",
       " 'x1': 3.0,\n",
       " 'x2': 4.0,\n",
       " 'x3': 0.0,\n",
       " 'x4': 0.0,\n",
       " 'rA': 1.0,\n",
       " 'rB': 2000000000.0,\n",
       " 'rC': 0.0,\n",
       " 'rD': 0.0,\n",
       " 'r1': 0.0,\n",
       " 'r2': 0.0,\n",
       " 'r3': 0.0,\n",
       " 'r4': 2000000000.0}"
      ]
     },
     "execution_count": 8,
     "metadata": {},
     "output_type": "execute_result"
    }
   ],
   "source": [
    "res"
   ]
  },
  {
   "cell_type": "code",
   "execution_count": 14,
   "metadata": {
    "pycharm": {
     "name": "#%%\n"
    }
   },
   "outputs": [],
   "source": [
    "result = res\n",
    "v = [Voter(id=vId, x=result['x'+vId], r=result['r'+vId]) for vId in voters]\n",
    "candidates = [Candidate(id=cId, x=result['x'+cId], r=result['r'+cId]) for cId in cands]\n",
    "profile = Profile(approvalSet, v, candidates)"
   ]
  },
  {
   "cell_type": "code",
   "execution_count": 15,
   "metadata": {
    "pycharm": {
     "name": "#%%\n"
    }
   },
   "outputs": [
    {
     "data": {
      "text/plain": [
       "True"
      ]
     },
     "execution_count": 15,
     "metadata": {},
     "output_type": "execute_result"
    }
   ],
   "source": [
    "isVCR(profile)\n"
   ]
  }
 ],
 "metadata": {
  "kernelspec": {
   "display_name": "Python 3",
   "language": "python",
   "name": "python3"
  },
  "language_info": {
   "codemirror_mode": {
    "name": "ipython",
    "version": 3
   },
   "file_extension": ".py",
   "mimetype": "text/x-python",
   "name": "python",
   "nbconvert_exporter": "python",
   "pygments_lexer": "ipython3",
   "version": "3.8.6"
  }
 },
 "nbformat": 4,
 "nbformat_minor": 1
}