{
 "cells": [
  {
   "cell_type": "code",
   "execution_count": 1,
   "metadata": {
    "pycharm": {
     "name": "#%%\n"
    }
   },
   "outputs": [],
   "source": [
    "import code.profiles.generation as gen\n",
    "from time import time\n",
    "from code.utils import timed\n",
    "from code.profiles.definitions import Profile, Voter, Candidate, VCR44\n",
    "from code.profiles.vcrDetection import detectVCRProperty, detectCRProperty, detectVRProperty\n",
    "from code.profiles.vcrDomain import isVCR\n",
    "from code.profiles.consecutiveOnesDetection import consecutiveOnes2D, totalconsecutiveOnes2D"
   ]
  },
  {
   "cell_type": "code",
   "execution_count": 2,
   "metadata": {},
   "outputs": [
    {
     "data": {
      "text/html": [
       "\n",
       "            <div>\n",
       "                <p><b>SparkSession - in-memory</b></p>\n",
       "                \n",
       "        <div>\n",
       "            <p><b>SparkContext</b></p>\n",
       "\n",
       "            <p><a href=\"http://192.168.1.131:4040\">Spark UI</a></p>\n",
       "\n",
       "            <dl>\n",
       "              <dt>Version</dt>\n",
       "                <dd><code>v3.0.1</code></dd>\n",
       "              <dt>Master</dt>\n",
       "                <dd><code>local[*]</code></dd>\n",
       "              <dt>AppName</dt>\n",
       "                <dd><code>pyspark-shell</code></dd>\n",
       "            </dl>\n",
       "        </div>\n",
       "        \n",
       "            </div>\n",
       "        "
      ],
      "text/plain": [
       "<pyspark.sql.session.SparkSession at 0x7f89d269f070>"
      ]
     },
     "execution_count": 2,
     "metadata": {},
     "output_type": "execute_result"
    }
   ],
   "source": [
    "from pyspark.sql import SparkSession\n",
    "from pyspark.conf import SparkConf\n",
    "from pyspark import SparkContext\n",
    "spark = SparkSession.builder.getOrCreate()\n",
    "sc = spark.sparkContext # sc = SparkContext.getOrCreate()\n",
    "spark"
   ]
  },
  {
   "cell_type": "code",
   "execution_count": 3,
   "metadata": {},
   "outputs": [],
   "source": [
    "def run(C=3, V=3):\n",
    "    candidatesIds = [\"A\", \"B\", \"C\", \"D\"]\n",
    "    votersIds = [\"1\", \"2\", \"3\", \"4\"]\n",
    "    \n",
    "    profilesRDD = sc.parallelize(gen.parallelProfileGeneration(cpu=16, candidatesNumber=C, voterNumber=V))\n",
    "    \n",
    "    print(\"ONE\")\n",
    "    \n",
    "    vcrProfilesRDD = profilesRDD \\\n",
    "        .map(lambda p: (p,detectVCRProperty(A=p, C=candidatesIds[:C], V=votersIds[:V]))) \\\n",
    "        .filter(lambda pRes: pRes[1][0] == 2)\n",
    "\n",
    "    print(\"VCR : \", vcrProfilesRDD.count())\n",
    "    \n",
    "    vcrNCOPProfilesRDD = vcrProfilesRDD \\\n",
    "        .filter(lambda pRes: not detectCRProperty(A=pRes[0], C=candidatesIds[:C], V=votersIds[:V])) \\\n",
    "        .filter(lambda pRes: not detectVRProperty(A=pRes[0], C=candidatesIds[:C], V=votersIds[:V]))\n",
    "\n",
    "    print(\"NCOP VCR : \", vcrNCOPProfilesRDD.count())\n",
    "    return vcrNCOPProfilesRDD"
   ]
  },
  {
   "cell_type": "code",
   "execution_count": 4,
   "metadata": {},
   "outputs": [
    {
     "name": "stdout",
     "output_type": "stream",
     "text": [
      "ONE\n",
      "VCR :  57832\n",
      "NCOP VCR :  96\n"
     ]
    },
    {
     "data": {
      "text/plain": [
       "53.51304006576538"
      ]
     },
     "execution_count": 4,
     "metadata": {},
     "output_type": "execute_result"
    }
   ],
   "source": [
    "start = time()\n",
    "vcrNCOPProfilesRDD = run(4,4)\n",
    "end = time()\n",
    "end - start"
   ]
  },
  {
   "cell_type": "code",
   "execution_count": 5,
   "metadata": {},
   "outputs": [
    {
     "data": {
      "text/plain": [
       "[(array([[0, 0, 1, 1],\n",
       "         [0, 1, 0, 1],\n",
       "         [1, 0, 0, 1],\n",
       "         [1, 1, 1, 1]]),\n",
       "  (2,\n",
       "   {'xA': 2.0,\n",
       "    'xB': 4.0,\n",
       "    'xC': 0.0,\n",
       "    'xD': 0.0,\n",
       "    'x1': 0.0,\n",
       "    'x2': 4.0,\n",
       "    'x3': 3.0,\n",
       "    'x4': 0.0,\n",
       "    'rA': 1.0,\n",
       "    'rB': 0.0,\n",
       "    'rC': 0.0,\n",
       "    'rD': 2000000000.0,\n",
       "    'r1': 0.0,\n",
       "    'r2': 0.0,\n",
       "    'r3': 0.0,\n",
       "    'r4': 2000000000.0})),\n",
       " (array([[0, 0, 1, 1],\n",
       "         [0, 1, 0, 1],\n",
       "         [1, 1, 1, 1],\n",
       "         [1, 0, 0, 1]]),\n",
       "  (2,\n",
       "   {'xA': 2.0,\n",
       "    'xB': 4.0,\n",
       "    'xC': 0.0,\n",
       "    'xD': 0.0,\n",
       "    'x1': 0.0,\n",
       "    'x2': 4.0,\n",
       "    'x3': 0.0,\n",
       "    'x4': 3.0,\n",
       "    'rA': 1.0,\n",
       "    'rB': 0.0,\n",
       "    'rC': 0.0,\n",
       "    'rD': 2000000000.0,\n",
       "    'r1': 0.0,\n",
       "    'r2': 0.0,\n",
       "    'r3': 2000000000.0,\n",
       "    'r4': 0.0})),\n",
       " (array([[0, 0, 1, 1],\n",
       "         [0, 1, 1, 0],\n",
       "         [1, 0, 1, 0],\n",
       "         [1, 1, 1, 1]]),\n",
       "  (2,\n",
       "   {'xA': 2.0,\n",
       "    'xB': 4.0,\n",
       "    'xC': 0.0,\n",
       "    'xD': 0.0,\n",
       "    'x1': 0.0,\n",
       "    'x2': 4.0,\n",
       "    'x3': 3.0,\n",
       "    'x4': 0.0,\n",
       "    'rA': 1.0,\n",
       "    'rB': 0.0,\n",
       "    'rC': 2000000000.0,\n",
       "    'rD': 0.0,\n",
       "    'r1': 0.0,\n",
       "    'r2': 0.0,\n",
       "    'r3': 0.0,\n",
       "    'r4': 2000000000.0}))]"
      ]
     },
     "execution_count": 5,
     "metadata": {},
     "output_type": "execute_result"
    }
   ],
   "source": [
    "vcrNCOPProfilesRDD.take(3)"
   ]
  },
  {
   "cell_type": "code",
   "execution_count": 9,
   "metadata": {
    "pycharm": {
     "name": "#%%\n"
    }
   },
   "outputs": [],
   "source": [
    "res = detectVCRProperty(all33Profiles[140], candidatesIds[:C], votersIds[:V])\n",
    "result = res[1]\n",
    "a = all33Profiles[140]\n",
    "resV = [Voter(id=vId, x=result['x'+vId], r=result['r'+vId]) for vId in votersIds[:V]]\n",
    "resC = [Candidate(id=cId, x=result['x'+cId], r=result['r'+cId]) for cId in candidatesIds[:C]]\n",
    "profile = Profile(a, resV, resC)\n",
    "isVCR(profile)"
   ]
  },
  {
   "cell_type": "code",
   "execution_count": 7,
   "metadata": {},
   "outputs": [],
   "source": [
    "!cp README.md r.md"
   ]
  }
 ],
 "metadata": {
  "kernelspec": {
   "display_name": "Python 3",
   "language": "python",
   "name": "python3"
  },
  "language_info": {
   "codemirror_mode": {
    "name": "ipython",
    "version": 3
   },
   "file_extension": ".py",
   "mimetype": "text/x-python",
   "name": "python",
   "nbconvert_exporter": "python",
   "pygments_lexer": "ipython3",
   "version": "3.8.6"
  }
 },
 "nbformat": 4,
 "nbformat_minor": 1
}
