{
 "cells": [
  {
   "cell_type": "code",
   "execution_count": 1,
   "metadata": {
    "pycharm": {
     "name": "#%%\n"
    }
   },
   "outputs": [],
   "source": [
    "from numpy import array, ndarray\n",
    "from time import time\n",
    "from itertools import product\n",
    "\n",
    "import code.profiles.generation as gen\n",
    "from code.profiles.definitions import Profile, Voter, Candidate, notVCR33\n",
    "from code.profiles.vcrDetection import detectVCRProperty, detectCRProperty, detectVRProperty\n",
    "from code.profiles.vcrDomain import isVCR\n",
    "from code.utils import getNumpyColumns"
   ]
  },
  {
   "cell_type": "code",
   "execution_count": 2,
   "metadata": {},
   "outputs": [
    {
     "data": {
      "text/html": [
       "\n",
       "            <div>\n",
       "                <p><b>SparkSession - in-memory</b></p>\n",
       "                \n",
       "        <div>\n",
       "            <p><b>SparkContext</b></p>\n",
       "\n",
       "            <p><a href=\"http://192.168.1.131:4040\">Spark UI</a></p>\n",
       "\n",
       "            <dl>\n",
       "              <dt>Version</dt>\n",
       "                <dd><code>v3.0.1</code></dd>\n",
       "              <dt>Master</dt>\n",
       "                <dd><code>local[*]</code></dd>\n",
       "              <dt>AppName</dt>\n",
       "                <dd><code>pyspark-shell</code></dd>\n",
       "            </dl>\n",
       "        </div>\n",
       "        \n",
       "            </div>\n",
       "        "
      ],
      "text/plain": [
       "<pyspark.sql.session.SparkSession at 0x7fd288b8e700>"
      ]
     },
     "execution_count": 2,
     "metadata": {},
     "output_type": "execute_result"
    }
   ],
   "source": [
    "from pyspark.sql import SparkSession, Row\n",
    "from pyspark.sql.types import StructType, StructField, FloatType\n",
    "\n",
    "spark = SparkSession.builder.getOrCreate()\n",
    "sc = spark.sparkContext # sc = SparkContext.getOrCreate()\n",
    "spark"
   ]
  },
  {
   "cell_type": "code",
   "execution_count": 7,
   "metadata": {},
   "outputs": [],
   "source": [
    "def run(savePath: str, C: int=3, V:int =3):\n",
    "    statistics = {}\n",
    "    candidatesIds = [\"A\", \"B\", \"C\", \"D\", \"E\", \"F\", \"G\"][:C]\n",
    "    votersIds = [\"0\", \"1\", \"2\", \"3\", \"4\", \"5\", \"6\"][:V]\n",
    "\n",
    "    profilesRDD = sc.parallelize(gen.parallelProfileGeneration(cpu=16, candidatesNumber=C, voterNumber=V))\n",
    "\n",
    "    print(\"ONE\")\n",
    "    \n",
    "    vcrProfilesRDD = profilesRDD \\\n",
    "        .map(lambda p: (p,detectVCRProperty(A=p, C=candidatesIds[:C], V=votersIds[:V]))) \\\n",
    "        .filter(lambda pRes: pRes[1][0] == 2)\n",
    "    \n",
    "    statistics[\"VCR\"] = vcrProfilesRDD.count()\n",
    "    print(statistics[\"VCR\"])\n",
    "    \n",
    "    vcrNCOPProfilesRDD = vcrProfilesRDD \\\n",
    "        .filter(lambda pRes: not detectCRProperty(A=pRes[0], C=candidatesIds, V=votersIds)) \\\n",
    "        .filter(lambda pRes: not detectVRProperty(A=pRes[0], C=candidatesIds, V=votersIds)) \\\n",
    "        .map(lambda pRes: Profile.fromILPRes(pRes[0], pRes[1][1], candidatesIds, votersIds))\n",
    "\n",
    "    statistics[\"NCOPVCR\"] = vcrNCOPProfilesRDD.count()\n",
    "    print(statistics[\"NCOPVCR\"])\n",
    "    \n",
    "    NPRow = Row(*tuple(getNumpyColumns(C,V)))\n",
    "    schema = StructType([StructField(n, FloatType(), False) for n in getNumpyColumns(C,V)])\n",
    "    \n",
    "    vcrNCOPNumpyRows = vcrNCOPProfilesRDD \\\n",
    "        .map(lambda profile: profile.asNumpy().tolist()) \\\n",
    "        .map(lambda a: NPRow(*tuple(a))) \\\n",
    "        \n",
    "    spark.createDataFrame(vcrNCOPNumpyRows, schema) \\\n",
    "        .write.format(\"com.databricks.spark.csv\") \\\n",
    "        .option(\"header\", \"true\") \\\n",
    "        .save(savePath) \\\n",
    "    \n",
    "    spark.createDataFrame(statistics.items(), [\"key\", \"value\"]) \\\n",
    "        .repartition(1) \\\n",
    "        .write.format(\"com.databricks.spark.csv\") \\\n",
    "        .option(\"header\", \"true\") \\\n",
    "        .save(\"resources/\"+ savePath[-6:] +\"-stats.csv\") \\\n",
    "      \n",
    "    return statistics, vcrNCOPNumpyRows"
   ]
  },
  {
   "cell_type": "code",
   "execution_count": 9,
   "metadata": {},
   "outputs": [
    {
     "name": "stdout",
     "output_type": "stream",
     "text": [
      "ONE\n",
      "506\n",
      "0\n",
      "0.8681762218475342\n",
      "{'VCR': 506, 'NCOPVCR': 0}\n"
     ]
    }
   ],
   "source": [
    "startTime = time()\n",
    "stats, vcrNCOPProfiles = run('resources/3C3V-2', C=3, V=3)\n",
    "endTime = time()\n",
    "print(endTime - startTime)\n",
    "print(stats)"
   ]
  },
  {
   "cell_type": "code",
   "execution_count": 8,
   "metadata": {},
   "outputs": [
    {
     "name": "stdout",
     "output_type": "stream",
     "text": [
      "ONE\n",
      "57832\n",
      "96\n",
      "84.66908073425293\n",
      "{'VCR': 57832, 'NCOPVCR': 96}\n"
     ]
    }
   ],
   "source": [
    "startTime = time()\n",
    "stats, vcrNCOPProfiles = run('resources/4C4V-1', C=4, V=4)\n",
    "endTime = time()\n",
    "print(endTime - startTime)\n",
    "print(stats)"
   ]
  }
 ],
 "metadata": {
  "kernelspec": {
   "display_name": "Python 3",
   "language": "python",
   "name": "python3"
  },
  "language_info": {
   "codemirror_mode": {
    "name": "ipython",
    "version": 3
   },
   "file_extension": ".py",
   "mimetype": "text/x-python",
   "name": "python",
   "nbconvert_exporter": "python",
   "pygments_lexer": "ipython3",
   "version": "3.8.6"
  }
 },
 "nbformat": 4,
 "nbformat_minor": 1
}
