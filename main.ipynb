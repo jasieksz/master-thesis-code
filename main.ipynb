{
 "cells": [
  {
   "cell_type": "code",
   "execution_count": 2,
   "metadata": {
    "pycharm": {
     "name": "#%%\n"
    }
   },
   "outputs": [],
   "source": [
    "from numpy import array, ndarray\n",
    "from time import time\n",
    "from itertools import product\n",
    "\n",
    "import code.profiles.generation as gen\n",
    "from code.profiles.definitions import Profile, Voter, Candidate, notVCR33\n",
    "from code.profiles.vcrDetection import detectVCRProperty, detectCRProperty, detectVRProperty\n",
    "from code.profiles.vcrDomain import isVCR"
   ]
  },
  {
   "cell_type": "code",
   "execution_count": null,
   "metadata": {},
   "outputs": [],
   "source": [
    "from pyspark.sql import SparkSession\n",
    "spark = SparkSession.builder.getOrCreate()\n",
    "sc = spark.sparkContext # sc = SparkContext.getOrCreate()\n",
    "spark"
   ]
  },
  {
   "cell_type": "code",
   "execution_count": null,
   "metadata": {},
   "outputs": [],
   "source": [
    "def run(C=3, V=3):\n",
    "    candidatesIds = [\"A\", \"B\", \"C\", \"D\", \"E\", \"F\", \"G\"][:C]\n",
    "    votersIds = [\"0\", \"1\", \"2\", \"3\", \"4\", \"5\", \"6\"][:V]\n",
    "\n",
    "    profilesNP = sc.parallelize(product([0, 1], repeat=C)) \\\n",
    "        .map(lambda singleVote: product(singleVote, repeat=V)) \\\n",
    "        .map(lambda profile: array(profile))\n",
    "\n",
    "    # profilesRDD = sc.parallelize(gen.parallelProfileGeneration(cpu=16, candidatesNumber=C, voterNumber=V))\n",
    "    profilesRDD = profilesNP\n",
    "\n",
    "    print(\"TOTAL : \", profilesRDD.count())\n",
    "\n",
    "    # p.A, (status, resDict)\n",
    "    vcrProfilesRDD = profilesRDD \\\n",
    "        .map(lambda p: (p,detectVCRProperty(A=p, C=candidatesIds[:C], V=votersIds[:V]))) \\\n",
    "        .filter(lambda pRes: pRes[1][0] == 2)\n",
    "\n",
    "    print(\"VCR : \", vcrProfilesRDD.count())\n",
    "    \n",
    "    vcrNCOPProfilesRDD = vcrProfilesRDD \\\n",
    "        .filter(lambda pRes: not detectCRProperty(A=pRes[0], C=candidatesIds, V=votersIds)) \\\n",
    "        .filter(lambda pRes: not detectVRProperty(A=pRes[0], C=candidatesIds, V=votersIds)) \\\n",
    "        .map(lambda pRes: Profile.fromILPRes(pRes[0], pRes[1][1], candidatesIds, votersIds)) \\\n",
    "        .map(lambda profile: profile.asNumpy())\n",
    "\n",
    "    print(\"NCOP VCR : \", vcrNCOPProfilesRDD.count())\n",
    "    return vcrNCOPProfilesRDD"
   ]
  },
  {
   "cell_type": "code",
   "execution_count": null,
   "metadata": {},
   "outputs": [],
   "source": [
    "start = time()\n",
    "vcrNCOPProfiles = run(3,3)\n",
    "end = time()\n",
    "end - start"
   ]
  },
  {
   "cell_type": "code",
   "execution_count": null,
   "metadata": {
    "pycharm": {
     "name": "#%%\n"
    }
   },
   "outputs": [],
   "source": [
    "vcrNCOPProfiles.take(3)\n",
    "\n",
    "import numpy as np\n",
    "a = notVCR33().asNumpy()\n",
    "bb = Profile.fromNumpy(a).asNumpy().tobytes()\n",
    "np.frombuffer(bb)[20:].astype(int)"
   ]
  }
 ],
 "metadata": {
  "kernelspec": {
   "display_name": "Python 3",
   "language": "python",
   "name": "python3"
  },
  "language_info": {
   "codemirror_mode": {
    "name": "ipython",
    "version": 3
   },
   "file_extension": ".py",
   "mimetype": "text/x-python",
   "name": "python",
   "nbconvert_exporter": "python",
   "pygments_lexer": "ipython3",
   "version": "3.8.6"
  }
 },
 "nbformat": 4,
 "nbformat_minor": 1
}