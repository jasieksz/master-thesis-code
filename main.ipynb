{
 "cells": [
  {
   "cell_type": "code",
   "execution_count": null,
   "metadata": {
    "pycharm": {
     "name": "#%%\n"
    }
   },
   "outputs": [],
   "source": [
    "import numpy as np\n",
    "from time import time\n",
    "import code.profiles.generation as gen\n",
    "from code.profiles.definitions import Profile\n",
    "from code.profiles.vcrDetection import detectVCRProperty, detectCRProperty, detectVRProperty\n",
    "from code.utils import getNumpyColumns"
   ]
  },
  {
   "cell_type": "code",
   "execution_count": null,
   "metadata": {},
   "outputs": [],
   "source": [
    "from pyspark.sql import SparkSession, Row\n",
    "from pyspark.sql.types import StructType, StructField, FloatType\n",
    "\n",
    "spark = SparkSession.builder.getOrCreate()\n",
    "sc = spark.sparkContext # sc = SparkContext.getOrCreate()\n",
    "spark"
   ]
  },
  {
   "cell_type": "code",
   "execution_count": 21,
   "metadata": {},
   "outputs": [],
   "source": [
    "def run(C: int=3, V:int =3):\n",
    "    statistics = {}\n",
    "    candidatesIds = [\"A\", \"B\", \"C\", \"D\", \"E\", \"F\", \"G\"][:C]\n",
    "    votersIds = [\"0\", \"1\", \"2\", \"3\", \"4\", \"5\", \"6\"][:V]\n",
    "\n",
    "    profilesRDD = sc.parallelize(gen.parallelProfileGeneration(cpu=16, candidatesNumber=C, voterNumber=V))\n",
    "    \n",
    "    vcrProfilesRDD = profilesRDD \\\n",
    "        .map(lambda p: (p,detectVCRProperty(A=p, C=candidatesIds[:C], V=votersIds[:V]))) \\\n",
    "        .filter(lambda pRes: pRes[1][0] == 2)\n",
    "\n",
    "    vcrNCOPProfilesRDD = vcrProfilesRDD \\\n",
    "        .filter(lambda pRes: not detectCRProperty(A=pRes[0], C=candidatesIds, V=votersIds)) \\\n",
    "        .filter(lambda pRes: not detectVRProperty(A=pRes[0], C=candidatesIds, V=votersIds)) \\\n",
    "        .map(lambda pRes: Profile.fromILPRes(pRes[0], pRes[1][1], candidatesIds, votersIds))\n",
    "\n",
    "    NPRow = Row(*tuple(getNumpyColumns(C,V)))\n",
    "    schema = StructType([StructField(n, FloatType(), False) for n in getNumpyColumns(C,V)])\n",
    "    \n",
    "    vcrNCOPNumpyRows = vcrNCOPProfilesRDD \\\n",
    "        .map(lambda profile: profile.asNumpy().tolist()) \\\n",
    "        .map(lambda a: NPRow(*tuple(a))) \\\n",
    "        \n",
    "    spark.createDataFrame(vcrNCOPNumpyRows, schema) \\\n",
    "        .write.format(\"com.databricks.spark.csv\") \\\n",
    "        .option(\"header\", \"true\") \\\n",
    "        .save(\"resources/{}C{}V\".format(C,V), mode=\"append\") \\\n",
    "\n",
    "    print(\"After save\")\n",
    "\n",
    "    statistics[\"VCR\"] = vcrProfilesRDD.count()\n",
    "    print(statistics[\"VCR\"])\n",
    "\n",
    "    print(\"After VCR Count\")\n",
    "\n",
    "    statistics[\"NCOPVCR\"] = vcrNCOPProfilesRDD.count()\n",
    "    print(statistics[\"NCOPVCR\"])\n",
    "\n",
    "    spark.createDataFrame(statistics.items(), [\"key\", \"value\"]) \\\n",
    "        .repartition(1) \\\n",
    "        .write.format(\"com.databricks.spark.csv\") \\\n",
    "        .option(\"header\", \"true\") \\\n",
    "        .save(\"resources/{}C{}V-stats.csv\".format(C,V), mode=\"append\") \\\n",
    "\n",
    "    print(\"After Stats save\")\n",
    "\n",
    "    return statistics, vcrNCOPNumpyRows"
   ]
  },
  {
   "cell_type": "code",
   "execution_count": 25,
   "metadata": {
    "pycharm": {
     "name": "#%%\n"
    }
   },
   "outputs": [
    {
     "name": "stdout",
     "output_type": "stream",
     "text": [
      "After save\n",
      "57832\n",
      "After VCR Count\n",
      "96\n",
      "After Stats save\n",
      "114.01347422599792\n",
      "{'VCR': 57832, 'NCOPVCR': 96}\n"
     ]
    }
   ],
   "source": [
    "startTime = time()\n",
    "stats, vcrNCOPProfiles = run(C=4, V=4)\n",
    "endTime = time()\n",
    "print(endTime - startTime)\n",
    "print(stats)\n"
   ]
  },
  {
   "cell_type": "code",
   "execution_count": 16,
   "outputs": [],
   "source": [
    "def loadProfiles(C:int=3, V:int=3):\n",
    "    vcrNCOPProfilesDF = spark.read.format(\"csv\")\\\n",
    "        .option(\"inferSchema\", \"true\") \\\n",
    "        .option(\"header\", \"true\") \\\n",
    "        .load(\"resources/{}C{}V\".format(C,V))\n",
    "\n",
    "    return vcrNCOPProfilesDF.rdd \\\n",
    "        .map(lambda r: np.array(r, dtype=np.float)) \\\n",
    "        .map(lambda npProf: Profile.fromNumpy(npProf)) \\\n",
    "\n",
    "def loadStatistics(C:int=3, V:int=3):\n",
    "    return spark.read.format(\"csv\")\\\n",
    "        .option(\"inferSchema\", \"true\") \\\n",
    "        .option(\"header\", \"true\") \\\n",
    "        .load(\"resources/{}C{}V-stats.csv\".format(C,V))\n",
    "\n"
   ],
   "metadata": {
    "collapsed": false,
    "pycharm": {
     "name": "#%%\n"
    }
   }
  },
  {
   "cell_type": "code",
   "execution_count": 24,
   "outputs": [
    {
     "data": {
      "text/plain": "[Row(key='VCR', value=16),\n Row(key='NCOPVCR', value=0),\n Row(key='VCR', value=16),\n Row(key='NCOPVCR', value=0)]"
     },
     "execution_count": 24,
     "metadata": {},
     "output_type": "execute_result"
    }
   ],
   "source": [],
   "metadata": {
    "collapsed": false,
    "pycharm": {
     "name": "#%%\n"
    }
   }
  },
  {
   "cell_type": "code",
   "execution_count": null,
   "outputs": [],
   "source": [
    "\n",
    "\n",
    "\n",
    "\n",
    "\n",
    "\n",
    "\n",
    "\n",
    "\n",
    "\n",
    "\n",
    "\n",
    "\n",
    "\n",
    "\n",
    "\n",
    "\n",
    "\n",
    "\n",
    "\n",
    "\n",
    "\n",
    "\n",
    "\n",
    "\n",
    "\n",
    "\n"
   ],
   "metadata": {
    "collapsed": false,
    "pycharm": {
     "name": "#%%\n"
    }
   }
  }
 ],
 "metadata": {
  "kernelspec": {
   "display_name": "Python 3",
   "language": "python",
   "name": "python3"
  },
  "language_info": {
   "codemirror_mode": {
    "name": "ipython",
    "version": 3
   },
   "file_extension": ".py",
   "mimetype": "text/x-python",
   "name": "python",
   "nbconvert_exporter": "python",
   "pygments_lexer": "ipython3",
   "version": "3.8.6"
  }
 },
 "nbformat": 4,
 "nbformat_minor": 1
}